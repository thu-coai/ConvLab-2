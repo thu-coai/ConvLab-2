{
  "nbformat": 4,
  "nbformat_minor": 0,
  "metadata": {
    "colab": {
      "name": "Tutorial",
      "provenance": [],
      "collapsed_sections": [],
      "toc_visible": true
    },
    "kernelspec": {
      "name": "python3",
      "display_name": "Python 3"
    }
  },
  "cells": [
    {
      "cell_type": "markdown",
      "metadata": {
        "id": "x3qZ8fi1FAWS",
        "colab_type": "text"
      },
      "source": [
        "# Getting Started\n",
        "\n",
        "In this tutorial, you will know how to\n",
        "- use the models in **ConvLab-2** to build a dialog agent.\n",
        "- build a simulator to chat with the agent and evaluate the performance.\n",
        "- try different module combinations.\n",
        "- use analysis tool to diagnose your system.\n",
        "\n",
        "Let's get started!"
      ]
    },
    {
      "cell_type": "markdown",
      "metadata": {
        "id": "NvXG3UyBFFS3",
        "colab_type": "text"
      },
      "source": [
        "## Environment setup\n",
        "Run the command below to install ConvLab-2. Then restart the notebook and skip this commend."
      ]
    },
    {
      "cell_type": "code",
      "metadata": {
        "id": "qPqTs6EP0wxO",
        "colab_type": "code",
        "colab": {}
      },
      "source": [
        "# first install ConvLab-2 and restart the notebook\n",
        "! git clone https://github.com/thu-coai/ConvLab-2.git && cd ConvLab-2 && pip install -e ."
      ],
      "execution_count": 0,
      "outputs": []
    },
    {
      "cell_type": "markdown",
      "metadata": {
        "id": "1TPEtcEpFiCU",
        "colab_type": "text"
      },
      "source": [
        "## build an agent\n",
        "\n",
        "We use the models adapted on [Multiwoz](https://www.aclweb.org/anthology/D18-1547)  dataset to build our agent. This pipeline agent consists of NLU, DST, Policy and NLG modules.\n",
        "\n",
        "First, import some models:"
      ]
    },
    {
      "cell_type": "code",
      "metadata": {
        "id": "OqzFlmCBCXEV",
        "colab_type": "code",
        "colab": {}
      },
      "source": [
        "# common import: convlab2.$module.$model.$dataset\n",
        "from convlab2.nlu.jointBERT.multiwoz import BERTNLU\n",
        "from convlab2.nlu.milu.multiwoz import MILU\n",
        "from convlab2.dst.rule.multiwoz import RuleDST\n",
        "from convlab2.policy.rule.multiwoz import RulePolicy\n",
        "from convlab2.nlg.template.multiwoz import TemplateNLG\n",
        "from convlab2.dialog_agent import PipelineAgent, BiSession\n",
        "from convlab2.evaluator.multiwoz_eval import MultiWozEvaluator\n",
        "from pprint import pprint\n",
        "import random\n",
        "import numpy as np\n",
        "import torch"
      ],
      "execution_count": 0,
      "outputs": []
    },
    {
      "cell_type": "markdown",
      "metadata": {
        "id": "N-18Q6YKGEzY",
        "colab_type": "text"
      },
      "source": [
        "Then, create the models and build an agent:"
      ]
    },
    {
      "cell_type": "code",
      "metadata": {
        "id": "-GPQgUD6GjHv",
        "colab_type": "code",
        "colab": {}
      },
      "source": [
        "# go to README.md of each model for more information\n",
        "# BERT nlu\n",
        "sys_nlu = BERTNLU()\n",
        "# simple rule DST\n",
        "sys_dst = RuleDST()\n",
        "# rule policy\n",
        "sys_policy = RulePolicy()\n",
        "# template NLG\n",
        "sys_nlg = TemplateNLG(is_user=False)\n",
        "# assemble\n",
        "sys_agent = PipelineAgent(sys_nlu, sys_dst, sys_policy, sys_nlg, name='sys')"
      ],
      "execution_count": 0,
      "outputs": []
    },
    {
      "cell_type": "markdown",
      "metadata": {
        "id": "FvqIiO22H0Od",
        "colab_type": "text"
      },
      "source": [
        "That's all! Let's chat with the agent using its response function:"
      ]
    },
    {
      "cell_type": "code",
      "metadata": {
        "id": "9LYnDLysH1nX",
        "colab_type": "code",
        "colab": {}
      },
      "source": [
        "sys_agent.response(\"I want to find a moderate hotel\")"
      ],
      "execution_count": 0,
      "outputs": []
    },
    {
      "cell_type": "code",
      "metadata": {
        "id": "dAvi-IzsH474",
        "colab_type": "code",
        "colab": {}
      },
      "source": [
        "sys_agent.response(\"Which type of hotel is it ?\")"
      ],
      "execution_count": 0,
      "outputs": []
    },
    {
      "cell_type": "code",
      "metadata": {
        "id": "f0A6Pt4tH60c",
        "colab_type": "code",
        "colab": {}
      },
      "source": [
        "sys_agent.response(\"OK , where is its address ?\")"
      ],
      "execution_count": 0,
      "outputs": []
    },
    {
      "cell_type": "code",
      "metadata": {
        "id": "8VH6yO6PH8Ua",
        "colab_type": "code",
        "colab": {}
      },
      "source": [
        "sys_agent.response(\"Thank you !\")"
      ],
      "execution_count": 0,
      "outputs": []
    },
    {
      "cell_type": "code",
      "metadata": {
        "id": "wto-PxgNH9gp",
        "colab_type": "code",
        "colab": {}
      },
      "source": [
        "sys_agent.response(\"Try to find me a Chinese restaurant in south area .\")"
      ],
      "execution_count": 0,
      "outputs": []
    },
    {
      "cell_type": "code",
      "metadata": {
        "id": "MJ9C1ZhbH_JY",
        "colab_type": "code",
        "colab": {}
      },
      "source": [
        "sys_agent.response(\"Which kind of food it provides ?\")"
      ],
      "execution_count": 0,
      "outputs": []
    },
    {
      "cell_type": "code",
      "metadata": {
        "id": "DpaQNA_HIAmT",
        "colab_type": "code",
        "colab": {}
      },
      "source": [
        "sys_agent.response(\"Book a table for 5 , this Sunday .\")"
      ],
      "execution_count": 0,
      "outputs": []
    },
    {
      "cell_type": "markdown",
      "metadata": {
        "id": "n6uuuRonIHvW",
        "colab_type": "text"
      },
      "source": [
        "## Build a simulator to chat with the agent and evaluate\n",
        "\n",
        "In many one-to-one task-oriented dialog system, a simulator is essential to train an RL agent. In our framework, we doesn't distinguish user or system. All speakers are **agents**. The simulator is also an agent, with specific policy inside for accomplishing the user goal.\n",
        "\n",
        "We use `Agenda` policy for the simulator, this policy requires dialog act input, which means we should set DST argument of `PipelineAgent` to None. Then the `PipelineAgent` will pass dialog act to policy directly. Refer to `PipelineAgent` doc for more details."
      ]
    },
    {
      "cell_type": "code",
      "metadata": {
        "id": "pAMAJZSF7D5w",
        "colab_type": "code",
        "colab": {}
      },
      "source": [
        "# MILU\n",
        "user_nlu = MILU()\n",
        "# not use dst\n",
        "user_dst = None\n",
        "# rule policy\n",
        "user_policy = RulePolicy(character='usr')\n",
        "# template NLG\n",
        "user_nlg = TemplateNLG(is_user=True)\n",
        "# assemble\n",
        "user_agent = PipelineAgent(user_nlu, user_dst, user_policy, user_nlg, name='user')"
      ],
      "execution_count": 0,
      "outputs": []
    },
    {
      "cell_type": "markdown",
      "metadata": {
        "id": "Rghl-V2AJhRY",
        "colab_type": "text"
      },
      "source": [
        "\n",
        "Now we have a simulator and an agent. we will use an existed simple one-to-one conversation controller BiSession, you can also define your own Session class for your special need.\n",
        "\n",
        "We add `MultiWozEvaluator` to evaluate the performance. It uses the parsed dialog act input and policy output dialog act to calculate **inform f1**, **book rate**, and whether the task is **success**."
      ]
    },
    {
      "cell_type": "code",
      "metadata": {
        "id": "saUoLUUGJqDa",
        "colab_type": "code",
        "colab": {}
      },
      "source": [
        "evaluator = MultiWozEvaluator()\n",
        "sess = BiSession(sys_agent=sys_agent, user_agent=user_agent, kb_query=None, evaluator=evaluator)"
      ],
      "execution_count": 0,
      "outputs": []
    },
    {
      "cell_type": "markdown",
      "metadata": {
        "id": "kevGJZhFJzTU",
        "colab_type": "text"
      },
      "source": [
        "Let's make this two agents chat! The key is `next_turn` method of `BiSession` class."
      ]
    },
    {
      "cell_type": "code",
      "metadata": {
        "id": "FIV_qkE49LzE",
        "colab_type": "code",
        "colab": {}
      },
      "source": [
        "def set_seed(r_seed):\n",
        "    random.seed(r_seed)\n",
        "    np.random.seed(r_seed)\n",
        "    torch.manual_seed(r_seed)\n",
        "\n",
        "set_seed(20200131)\n",
        "\n",
        "sys_response = ''\n",
        "sess.init_session()\n",
        "print('init goal:')\n",
        "pprint(sess.evaluator.goal)\n",
        "print('-'*50)\n",
        "for i in range(20):\n",
        "    sys_response, user_response, session_over, reward = sess.next_turn(sys_response)\n",
        "    print('user:', user_response)\n",
        "    print('sys:', sys_response)\n",
        "    print()\n",
        "    if session_over is True:\n",
        "        break\n",
        "print('task success:', sess.evaluator.task_success())\n",
        "print('book rate:', sess.evaluator.book_rate())\n",
        "print('inform precision/recall/f1:', sess.evaluator.inform_F1())\n",
        "print('-'*50)\n",
        "print('final goal:')\n",
        "pprint(sess.evaluator.goal)\n",
        "print('='*100)"
      ],
      "execution_count": 0,
      "outputs": []
    },
    {
      "cell_type": "markdown",
      "metadata": {
        "id": "CKOQs1l8LpTR",
        "colab_type": "text"
      },
      "source": [
        "## Try different module combinations\n",
        "\n",
        "The combination modes of pipeline agent modules are flexible. We support joint models such as MDBT, TRADE, SUMBT for word-DST and MDRG, HDSA, LaRL for word-Policy, once the input and output are matched with previous and next module. We also support End2End models such as Sequicity.\n",
        "\n",
        "Available models:\n",
        "\n",
        "- NLU: BERTNLU, MILU, SVMNLU\n",
        "- DST: RuleDST\n",
        "- Word-DST: SUMBT, TRADE, MDBT (set `sys_nlu` to `None`)\n",
        "- Policy: RulePolicy, Imitation, REINFORCE, PPO, GDPL\n",
        "- Word-Policy: MDRG, HDSA, LaRL (set `sys_nlg` to `None`)\n",
        "- NLG: Template, SCLSTM\n",
        "- End2End: Sequicity, DAMD, RNN_rollout (directly used as `sys_agent`)\n",
        "- Simulator policy: Agenda, VHUS (for `user_policy`)\n"
      ]
    },
    {
      "cell_type": "code",
      "metadata": {
        "id": "G-9G0VYUNYOI",
        "colab_type": "code",
        "colab": {}
      },
      "source": [
        "# available NLU models\n",
        "from convlab2.nlu.svm.multiwoz import SVMNLU\n",
        "from convlab2.nlu.jointBERT.multiwoz import BERTNLU\n",
        "from convlab2.nlu.milu.multiwoz import MILU\n",
        "# available DST models\n",
        "from convlab2.dst.rule.multiwoz import RuleDST\n",
        "from convlab2.dst.mdbt.multiwoz import MDBT\n",
        "from convlab2.dst.sumbt.multiwoz import SUMBT\n",
        "from convlab2.dst.trade.multiwoz import TRADE\n",
        "# available Policy models\n",
        "from convlab2.policy.rule.multiwoz import RulePolicy\n",
        "from convlab2.policy.ppo.multiwoz import PPOPolicy\n",
        "from convlab2.policy.pg.multiwoz import PGPolicy\n",
        "from convlab2.policy.mle.multiwoz import MLEPolicy\n",
        "from convlab2.policy.gdpl.multiwoz import GDPLPolicy\n",
        "from convlab2.policy.vhus.multiwoz import UserPolicyVHUS\n",
        "from convlab2.policy.mdrg.multiwoz import MDRGWordPolicy\n",
        "from convlab2.policy.hdsa.multiwoz import HDSA\n",
        "from convlab2.policy.larl.multiwoz import LaRL\n",
        "# available NLG models\n",
        "from convlab2.nlg.template.multiwoz import TemplateNLG\n",
        "from convlab2.nlg.sclstm.multiwoz import SCLSTM\n",
        "# available E2E models\n",
        "from convlab2.e2e.sequicity.multiwoz import Sequicity\n",
        "from convlab2.e2e.damd.multiwoz import Damd"
      ],
      "execution_count": 0,
      "outputs": []
    },
    {
      "cell_type": "markdown",
      "metadata": {
        "id": "6TS2_Tp1Nzvq",
        "colab_type": "text"
      },
      "source": [
        "NLU+RuleDST or Word-DST:"
      ]
    },
    {
      "cell_type": "code",
      "metadata": {
        "id": "DZMk9wAlONrz",
        "colab_type": "code",
        "colab": {}
      },
      "source": [
        "# NLU+RuleDST:\n",
        "sys_nlu = BERTNLU()\n",
        "# sys_nlu = MILU()\n",
        "# sys_nlu = SVMNLU()\n",
        "sys_dst = RuleDST()\n",
        "\n",
        "# or Word-DST:\n",
        "# sys_nlu = None\n",
        "# sys_dst = SUMBT()\n",
        "# sys_dst = TRADE()\n",
        "# sys_dst = MDBT()"
      ],
      "execution_count": 0,
      "outputs": []
    },
    {
      "cell_type": "markdown",
      "metadata": {
        "id": "gUUYsDMJPJRl",
        "colab_type": "text"
      },
      "source": [
        "Policy+NLG or Word-Policy:"
      ]
    },
    {
      "cell_type": "code",
      "metadata": {
        "id": "PTJ95x9UPHt4",
        "colab_type": "code",
        "colab": {}
      },
      "source": [
        "# Policy+NLG:\n",
        "sys_policy = RulePolicy()\n",
        "# sys_policy = PPOPolicy()\n",
        "# sys_policy = PGPolicy()\n",
        "# sys_policy = MLEPolicy()\n",
        "# sys_policy = GDPLPolicy()\n",
        "sys_nlg = TemplateNLG(is_user=False)\n",
        "# sys_nlg = SCLSTM(is_user=False)\n",
        "\n",
        "# or Word-Policy:\n",
        "# sys_policy = LaRL()\n",
        "# sys_policy = HDSA()\n",
        "# sys_policy = MDRGWordPolicy()\n",
        "# sys_nlg = None"
      ],
      "execution_count": 0,
      "outputs": []
    },
    {
      "cell_type": "markdown",
      "metadata": {
        "id": "s9lGIv0oPupn",
        "colab_type": "text"
      },
      "source": [
        "Assemble the Pipeline system agent:"
      ]
    },
    {
      "cell_type": "code",
      "metadata": {
        "id": "IvLx7HUkPyZ5",
        "colab_type": "code",
        "colab": {}
      },
      "source": [
        "sys_agent = PipelineAgent(sys_nlu, sys_dst, sys_policy, sys_nlg, 'sys')"
      ],
      "execution_count": 0,
      "outputs": []
    },
    {
      "cell_type": "markdown",
      "metadata": {
        "id": "hR4A8WbZP2lc",
        "colab_type": "text"
      },
      "source": [
        "Or Directly use an end-to-end model:"
      ]
    },
    {
      "cell_type": "code",
      "metadata": {
        "id": "8VdUmcxoP6ej",
        "colab_type": "code",
        "colab": {}
      },
      "source": [
        "# sys_agent = Sequicity()\n",
        "# sys_agent = Damd()"
      ],
      "execution_count": 0,
      "outputs": []
    },
    {
      "cell_type": "markdown",
      "metadata": {
        "id": "_v-eoBtnP9J9",
        "colab_type": "text"
      },
      "source": [
        "Config an user agent similarly:"
      ]
    },
    {
      "cell_type": "code",
      "metadata": {
        "id": "UkHpjvR5QezN",
        "colab_type": "code",
        "colab": {}
      },
      "source": [
        "user_nlu = BERTNLU()\n",
        "# user_nlu = MILU()\n",
        "# user_nlu = SVMNLU()\n",
        "user_dst = None\n",
        "user_policy = RulePolicy(character='usr')\n",
        "# user_policy = UserPolicyVHUS(load_from_zip=True)\n",
        "user_nlg = TemplateNLG(is_user=True)\n",
        "# user_nlg = SCLSTM(is_user=True)\n",
        "user_agent = PipelineAgent(user_nlu, user_dst, user_policy, user_nlg, name='user')"
      ],
      "execution_count": 0,
      "outputs": []
    },
    {
      "cell_type": "markdown",
      "metadata": {
        "id": "VJTBxEDhSAqc",
        "colab_type": "text"
      },
      "source": [
        "## Use analysis tool to diagnose the system\n",
        "We provide an analysis tool presents rich statistics and summarizes common mistakes from simulated dialogues, which facilitates error analysis and\n",
        "system improvement. The analyzer will generate an HTML report which contains\n",
        "rich statistics of simulated dialogues. For more information, please refer to `convlab2/util/analysis_tool`."
      ]
    },
    {
      "cell_type": "code",
      "metadata": {
        "id": "Hu2q3lQiSMDy",
        "colab_type": "code",
        "colab": {}
      },
      "source": [
        "from convlab2.util.analysis_tool.analyzer import Analyzer\n",
        "\n",
        "# if sys_nlu!=None, set use_nlu=True to collect more information\n",
        "analyzer = Analyzer(user_agent=user_agent, dataset='multiwoz')\n",
        "\n",
        "set_seed(20200131)\n",
        "analyzer.comprehensive_analyze(sys_agent=sys_agent, model_name='sys_agent', total_dialog=100)"
      ],
      "execution_count": 0,
      "outputs": []
    },
    {
      "cell_type": "markdown",
      "metadata": {
        "id": "AB-mDm0plQWd",
        "colab_type": "text"
      },
      "source": [
        "To compare several models:"
      ]
    },
    {
      "cell_type": "code",
      "metadata": {
        "id": "GKe_DNJUlWzh",
        "colab_type": "code",
        "colab": {}
      },
      "source": [
        "set_seed(20200131)\n",
        "analyzer.compare_models(agent_list=[sys_agent1, sys_agent2], model_name=['sys_agent1', 'sys_agent2'], total_dialog=100)"
      ],
      "execution_count": 0,
      "outputs": []
    }
  ]
}